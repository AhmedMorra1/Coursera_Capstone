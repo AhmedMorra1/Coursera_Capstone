{
  "nbformat": 4,
  "nbformat_minor": 0,
  "metadata": {
    "colab": {
      "name": "Final Report.ipynb",
      "provenance": [],
      "include_colab_link": true
    },
    "kernelspec": {
      "name": "python3",
      "display_name": "Python 3"
    }
  },
  "cells": [
    {
      "cell_type": "markdown",
      "metadata": {
        "id": "view-in-github",
        "colab_type": "text"
      },
      "source": [
        "<a href=\"https://colab.research.google.com/github/AhmedMorra1/Coursera_Capstone/blob/master/Final_Report.ipynb\" target=\"_parent\"><img src=\"https://colab.research.google.com/assets/colab-badge.svg\" alt=\"Open In Colab\"/></a>"
      ]
    },
    {
      "cell_type": "markdown",
      "metadata": {
        "id": "uPZ_MHA3DI4r",
        "colab_type": "text"
      },
      "source": [
        "#**Final Report**"
      ]
    },
    {
      "cell_type": "markdown",
      "metadata": {
        "id": "VHVtzHvHGLbW",
        "colab_type": "text"
      },
      "source": [
        "####**Description of the problem**\n",
        "Dubai is the fourth most-visited city in the world based on the number of international visitors and the fastest growing, increasing by a 10.7% rate.\n",
        "\n",
        "The city hosted 14.9 million overnight visitors in 2016, and is expected to reach 20 million tourists by 2020.\n",
        "\n",
        "My client is an investor that wants to take advantage of dubai incredible tourist numbers and invest in opening a coffee shop, Dubai already has hunderds of coffee shops so he want to open where there is no much competition.\n",
        "\n",
        "My job is to find the a place where opening a coffe shop will be a good investment and has few competitors to have most of the gains.\n"
      ]
    },
    {
      "cell_type": "markdown",
      "metadata": {
        "id": "XRacQNLhKvtK",
        "colab_type": "text"
      },
      "source": [
        "####**Description of the data**\n",
        "Dubai unlike New York or Toronto doesn't have Neighborhoods or Boroughs, Dubai has what is called Communities, So we have to:\n",
        "\n",
        "\n",
        "1.   Get a List of the communities in Dubai using wikipedia \n",
        "2.   Get their Latitude and Longitude using geolocator\n",
        "3.   Get their most popular venues from Foursquare API\n",
        "4.   Find the community with the least coffee shops but is fit to open one\n",
        "\n"
      ]
    },
    {
      "cell_type": "markdown",
      "metadata": {
        "id": "ZPjp-TWjLwiA",
        "colab_type": "text"
      },
      "source": [
        "####**Methodology**\n",
        "\n",
        "\n",
        "1.   Get Communities list from wikipedia \n",
        "2.   Put it into a dataframe\n",
        "3.   Use geolocator to get the coordinates of the communities\n",
        "4.   Use Foursquare API to get the most popular venues for each community\n",
        "5.   Use K-Means to divide the communities into clusters\n",
        "6.   Find a cluster which has the best characterstics for our project\n",
        "\n"
      ]
    },
    {
      "cell_type": "markdown",
      "metadata": {
        "id": "4xYcHmb7NPW5",
        "colab_type": "text"
      },
      "source": [
        "####**Results**\n",
        "\n",
        "After examining the clusters, cluster 3 was the best fit for the project, doesn't have much coffe shops but have other venues that suggest that it has the right demographic of people to be customers of the coffee shop.\n",
        "\n",
        "####**Discussion**\n",
        "The Cluster has 2 communities but we recommend to open a more casual coffee shop at the الممزر community because it has a sea view and in residentual area, the other community is in an industerial area so it would be a great location to open a coffee shop suitable for business meetings."
      ]
    },
    {
      "cell_type": "markdown",
      "metadata": {
        "id": "7KcoJQBgQIdu",
        "colab_type": "text"
      },
      "source": [
        "####**Conclusion**\n",
        "With these results our clients has two good location to open his new coffee shop."
      ]
    },
    {
      "cell_type": "code",
      "metadata": {
        "id": "dyZiotrHKuGt",
        "colab_type": "code",
        "colab": {}
      },
      "source": [
        ""
      ],
      "execution_count": 0,
      "outputs": []
    }
  ]
}